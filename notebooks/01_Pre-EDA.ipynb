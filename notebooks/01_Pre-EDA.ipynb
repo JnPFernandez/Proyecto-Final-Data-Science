{
 "cells": [
  {
   "cell_type": "markdown",
   "metadata": {},
   "source": [
    "# Análisis Exploratorio de Datos Preliminar (Pre-EDA)\n",
    "\n",
    "En el siguiente Análisis Exploratorio de Datos Preliminar (Pre-EDA), se realizará un examen inicial de los datos disponibles. Este proceso se lleva a cabo después de ejecutar un procedimiento conciso de extracción, transformación y carga (ETL) con el fin de mejorar la calidad de los datos.\n",
    "En este Pre-EDA, el enfoque estará en analizar la calidad de los datos proporcionados por el cliente, con el objetivo de evaluar la forma en que dichos datos serán tratados durante el desarrollo del proyecto."
   ]
  },
  {
   "cell_type": "code",
   "execution_count": 9,
   "metadata": {},
   "outputs": [
    {
     "data": {
      "text/plain": [
       "<module 'utils' from '/home/jupyter/code/utils.py'>"
      ]
     },
     "execution_count": 9,
     "metadata": {},
     "output_type": "execute_result"
    }
   ],
   "source": [
    "# Always Run this code\n",
    "import importlib\n",
    "import utils as ut\n",
    "importlib.reload(ut)"
   ]
  },
  {
   "cell_type": "markdown",
   "metadata": {},
   "source": [
    "## 1. Calidad de los Datos\n",
    "Con el objetivo de evaluar la calidad de los datos y definir un enfoque adecuado para el análisis, se realizó una inspección exhaustiva de cada archivo, revisando en detalle la información contenida en cada una de las columnas de las tablas seleccionadas para el estudio.\n",
    "### 1.1. Calidad de datos para la carpeta metadata-sitios"
   ]
  },
  {
   "cell_type": "code",
   "execution_count": 11,
   "metadata": {},
   "outputs": [
    {
     "name": "stdout",
     "output_type": "stream",
     "text": [
      "metadata-sitios Summary\n",
      "\n",
      "Total rows:  3025011\n",
      "\n",
      "Total full null rows:  0\n",
      "          Column                                     Data_type  No_miss_Qty  %Missing  Missing_Qty\n",
      "            name           [<class 'str'>, <class 'NoneType'>]      3024974      0.00           37\n",
      "         address           [<class 'str'>, <class 'NoneType'>]      2944500      2.66        80511\n",
      "         gmap_id                               [<class 'str'>]      3025011      0.00            0\n",
      "     description           [<class 'NoneType'>, <class 'str'>]       254289     91.59      2770722\n",
      "        latitude                             [<class 'float'>]      3025011      0.00            0\n",
      "       longitude                             [<class 'float'>]      3025011      0.00            0\n",
      "        category [<class 'numpy.ndarray'>, <class 'NoneType'>]      3007592      0.58        17419\n",
      "      avg_rating                             [<class 'float'>]      3025011      0.00            0\n",
      "  num_of_reviews                               [<class 'int'>]      3025011      0.00            0\n",
      "           price           [<class 'NoneType'>, <class 'str'>]       275203     90.90      2749808\n",
      "           hours [<class 'numpy.ndarray'>, <class 'NoneType'>]      2237606     26.03       787405\n",
      "            MISC          [<class 'dict'>, <class 'NoneType'>]      2334177     22.84       690834\n",
      "           state           [<class 'str'>, <class 'NoneType'>]      2278556     24.68       746455\n",
      "relative_results [<class 'numpy.ndarray'>, <class 'NoneType'>]      2729953      9.75       295058\n",
      "             url                               [<class 'str'>]      3025011      0.00            0\n",
      "=====================================\n"
     ]
    }
   ],
   "source": [
    "# --- Creación de variables para almacenar la ruta del bucket y de la carpeta\n",
    "bucket = 'pf-yelp-gmaps-datalake'\n",
    "folder = 'raw_data_parquet/GoogleMaps/metadata-sitios/'\n",
    "# --- aplicar la función:\n",
    "sum1 = ut.data_summ_on_parquet_by_folder(bucket, folder)"
   ]
  },
  {
   "cell_type": "markdown",
   "metadata": {},
   "source": [
    "### 1.2. Calidad de datos para la carpeta review-estados"
   ]
  },
  {
   "cell_type": "code",
   "execution_count": 12,
   "metadata": {},
   "outputs": [
    {
     "name": "stdout",
     "output_type": "stream",
     "text": [
      "California Summary\n",
      "\n",
      "Total rows:  2700000\n",
      "\n",
      "Total full null rows:  0\n",
      " Column                                     Data_type  No_miss_Qty  %Missing  Missing_Qty\n",
      "user_id                             [<class 'float'>]      2700000      0.00            0\n",
      "   name                               [<class 'str'>]      2700000      0.00            0\n",
      "   time                               [<class 'int'>]      2700000      0.00            0\n",
      " rating                               [<class 'int'>]      2700000      0.00            0\n",
      "   text           [<class 'str'>, <class 'NoneType'>]      1529036     43.37      1170964\n",
      "   pics [<class 'NoneType'>, <class 'numpy.ndarray'>]        99290     96.32      2600710\n",
      "   resp          [<class 'NoneType'>, <class 'dict'>]       245169     90.92      2454831\n",
      "gmap_id                               [<class 'str'>]      2700000      0.00            0\n",
      "=====================================\n",
      "Oregon Summary\n",
      "\n",
      "Total rows:  2250000\n",
      "\n",
      "Total full null rows:  0\n",
      " Column                                     Data_type  No_miss_Qty  %Missing  Missing_Qty\n",
      "user_id                             [<class 'float'>]      2250000      0.00            0\n",
      "   name                               [<class 'str'>]      2250000      0.00            0\n",
      "   time                               [<class 'int'>]      2250000      0.00            0\n",
      " rating                               [<class 'int'>]      2250000      0.00            0\n",
      "   text           [<class 'str'>, <class 'NoneType'>]      1352875     39.87       897125\n",
      "   pics [<class 'NoneType'>, <class 'numpy.ndarray'>]        77096     96.57      2172904\n",
      "   resp          [<class 'NoneType'>, <class 'dict'>]       270265     87.99      1979735\n",
      "gmap_id                               [<class 'str'>]      2250000      0.00            0\n",
      "=====================================\n",
      "Washington Summary\n",
      "\n",
      "Total rows:  1942020\n",
      "\n",
      "Total full null rows:  0\n",
      " Column                                     Data_type  No_miss_Qty  %Missing  Missing_Qty\n",
      "user_id                             [<class 'float'>]      1942020      0.00            0\n",
      "   name                               [<class 'str'>]      1942020      0.00            0\n",
      "   time                               [<class 'int'>]      1942020      0.00            0\n",
      " rating                               [<class 'int'>]      1942020      0.00            0\n",
      "   text           [<class 'str'>, <class 'NoneType'>]      1147921     40.89       794099\n",
      "   pics [<class 'NoneType'>, <class 'numpy.ndarray'>]        74860     96.15      1867160\n",
      "   resp          [<class 'NoneType'>, <class 'dict'>]       223824     88.47      1718196\n",
      "gmap_id                               [<class 'str'>]      1942020      0.00            0\n",
      "=====================================\n"
     ]
    }
   ],
   "source": [
    "# --- Creación de variables para almacenar la ruta del bucket y de la carpeta\n",
    "bucket = 'pf-yelp-gmaps-datalake'\n",
    "folder = 'raw_data_parquet/GoogleMaps/review-estados/'\n",
    "# --- aplicar la función:\n",
    "sum1 = ut.data_summ_on_parquet_by_folder(bucket, folder)"
   ]
  },
  {
   "cell_type": "markdown",
   "metadata": {},
   "source": [
    "### 1.3. Calidad de datos para la carpeta yelp"
   ]
  },
  {
   "cell_type": "code",
   "execution_count": 14,
   "metadata": {},
   "outputs": [
    {
     "name": "stdout",
     "output_type": "stream",
     "text": [
      "business Summary\n",
      "\n",
      "Total rows:  150346\n",
      "\n",
      "Total full null rows:  0\n",
      "      Column                            Data_type  No_miss_Qty  %Missing  Missing_Qty\n",
      " business_id                      [<class 'str'>]       150346      0.00            0\n",
      "        name                      [<class 'str'>]       150346      0.00            0\n",
      "     address                      [<class 'str'>]       150346      0.00            0\n",
      "        city                      [<class 'str'>]       150346      0.00            0\n",
      "       state  [<class 'NoneType'>, <class 'str'>]       150343      0.00            3\n",
      " postal_code                      [<class 'str'>]       150346      0.00            0\n",
      "    latitude                    [<class 'float'>]       150346      0.00            0\n",
      "   longitude                    [<class 'float'>]       150346      0.00            0\n",
      "       stars                    [<class 'float'>]       150346      0.00            0\n",
      "review_count                      [<class 'int'>]       150346      0.00            0\n",
      "     is_open                      [<class 'int'>]       150346      0.00            0\n",
      "  attributes [<class 'dict'>, <class 'NoneType'>]       136602      9.14        13744\n",
      "  categories  [<class 'str'>, <class 'NoneType'>]       150243      0.07          103\n",
      "       hours [<class 'NoneType'>, <class 'dict'>]       127123     15.45        23223\n",
      "=====================================\n",
      "checkin Summary\n",
      "\n",
      "Total rows:  131930\n",
      "\n",
      "Total full null rows:  0\n",
      "     Column       Data_type  No_miss_Qty  %Missing  Missing_Qty\n",
      "business_id [<class 'str'>]       131930       0.0            0\n",
      "       date [<class 'str'>]       131930       0.0            0\n",
      "=====================================\n",
      "review Summary\n",
      "\n",
      "Total rows:  6990280\n",
      "\n",
      "Total full null rows:  0\n",
      "     Column                                            Data_type  No_miss_Qty  %Missing  Missing_Qty\n",
      "  review_id                                      [<class 'str'>]      6990280       0.0            0\n",
      "    user_id                                      [<class 'str'>]      6990280       0.0            0\n",
      "business_id                                      [<class 'str'>]      6990280       0.0            0\n",
      "      stars                                      [<class 'int'>]      6990280       0.0            0\n",
      "     useful                                      [<class 'int'>]      6990280       0.0            0\n",
      "      funny                                      [<class 'int'>]      6990280       0.0            0\n",
      "       cool                                      [<class 'int'>]      6990280       0.0            0\n",
      "       text                                      [<class 'str'>]      6990280       0.0            0\n",
      "       date [<class 'pandas._libs.tslibs.timestamps.Timestamp'>]      6990280       0.0            0\n",
      "=====================================\n",
      "tip Summary\n",
      "\n",
      "Total rows:  908915\n",
      "\n",
      "Total full null rows:  0\n",
      "          Column                                            Data_type  No_miss_Qty  %Missing  Missing_Qty\n",
      "         user_id                                      [<class 'str'>]       908915       0.0            0\n",
      "     business_id                                      [<class 'str'>]       908915       0.0            0\n",
      "            text                                      [<class 'str'>]       908915       0.0            0\n",
      "            date [<class 'pandas._libs.tslibs.timestamps.Timestamp'>]       908915       0.0            0\n",
      "compliment_count                                      [<class 'int'>]       908915       0.0            0\n",
      "=====================================\n",
      "user Summary\n",
      "\n",
      "Total rows:  2105597\n",
      "\n",
      "Total full null rows:  0\n",
      "            Column         Data_type  No_miss_Qty  %Missing  Missing_Qty\n",
      "           user_id   [<class 'str'>]      2105597       0.0            0\n",
      "              name   [<class 'str'>]      2105597       0.0            0\n",
      "      review_count   [<class 'int'>]      2105597       0.0            0\n",
      "     yelping_since   [<class 'str'>]      2105597       0.0            0\n",
      "            useful   [<class 'int'>]      2105597       0.0            0\n",
      "             funny   [<class 'int'>]      2105597       0.0            0\n",
      "              cool   [<class 'int'>]      2105597       0.0            0\n",
      "             elite   [<class 'str'>]      2105597       0.0            0\n",
      "           friends   [<class 'str'>]      2105597       0.0            0\n",
      "              fans   [<class 'int'>]      2105597       0.0            0\n",
      "     average_stars [<class 'float'>]      2105597       0.0            0\n",
      "    compliment_hot   [<class 'int'>]      2105597       0.0            0\n",
      "   compliment_more   [<class 'int'>]      2105597       0.0            0\n",
      "compliment_profile   [<class 'int'>]      2105597       0.0            0\n",
      "   compliment_cute   [<class 'int'>]      2105597       0.0            0\n",
      "   compliment_list   [<class 'int'>]      2105597       0.0            0\n",
      "   compliment_note   [<class 'int'>]      2105597       0.0            0\n",
      "  compliment_plain   [<class 'int'>]      2105597       0.0            0\n",
      "   compliment_cool   [<class 'int'>]      2105597       0.0            0\n",
      "  compliment_funny   [<class 'int'>]      2105597       0.0            0\n",
      " compliment_writer   [<class 'int'>]      2105597       0.0            0\n",
      " compliment_photos   [<class 'int'>]      2105597       0.0            0\n",
      "=====================================\n"
     ]
    }
   ],
   "source": [
    "# --- Creación de variables para almacenar la ruta del bucket y de la carpeta\n",
    "bucket = 'pf-yelp-gmaps-datalake'\n",
    "folder = 'raw_data_parquet/yelp/'\n",
    "# --- aplicar la función:\n",
    "sum1 = ut.data_summ_on_parquet_gcs(bucket, folder)"
   ]
  }
 ],
 "metadata": {
  "environment": {
   "kernel": "conda-base-py",
   "name": "workbench-notebooks.m129",
   "type": "gcloud",
   "uri": "us-docker.pkg.dev/deeplearning-platform-release/gcr.io/workbench-notebooks:m129"
  },
  "kernelspec": {
   "display_name": "Python 3 (ipykernel)",
   "language": "python",
   "name": "conda-base-py"
  },
  "language_info": {
   "codemirror_mode": {
    "name": "ipython",
    "version": 3
   },
   "file_extension": ".py",
   "mimetype": "text/x-python",
   "name": "python",
   "nbconvert_exporter": "python",
   "pygments_lexer": "ipython3",
   "version": "3.10.16"
  }
 },
 "nbformat": 4,
 "nbformat_minor": 4
}
