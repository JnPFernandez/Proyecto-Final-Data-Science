{
 "cells": [
  {
   "cell_type": "markdown",
   "id": "24e017d7",
   "metadata": {},
   "source": [
    "### *En el siguiente documento se lleva a cabo la exploracion de los datos, y del modelo de machine learning*"
   ]
  },
  {
   "cell_type": "markdown",
   "id": "cf2694c2",
   "metadata": {},
   "source": [
    "1.0 Importacion de librerias"
   ]
  },
  {
   "cell_type": "code",
   "execution_count": 49,
   "id": "1091db82",
   "metadata": {},
   "outputs": [],
   "source": [
    "import pandas as pd\n",
    "import warnings\n",
    "from sklearn.ensemble import RandomForestClassifier\n",
    "from sklearn.model_selection import train_test_split\n",
    "from sklearn.metrics import accuracy_score, precision_score, recall_score, f1_score, confusion_matrix, roc_auc_score, classification_report\n",
    "from sklearn.preprocessing import StandardScaler\n",
    "import matplotlib.pyplot as plt\n",
    "import seaborn as sns\n",
    "from sklearn.linear_model import LogisticRegression\n",
    "from xgboost import XGBClassifier\n",
    "import numpy as np\n",
    "from collections import Counter\n",
    "from sklearn.utils import resample\n",
    "from sklearn.model_selection import GridSearchCV\n"
   ]
  },
  {
   "cell_type": "markdown",
   "id": "c6fb5b6b",
   "metadata": {},
   "source": [
    "1.1 Configuracions"
   ]
  },
  {
   "cell_type": "code",
   "execution_count": 2,
   "id": "8d064bc4",
   "metadata": {},
   "outputs": [],
   "source": [
    "warnings.filterwarnings(\"ignore\")"
   ]
  },
  {
   "cell_type": "markdown",
   "id": "1db732cf",
   "metadata": {},
   "source": [
    "1.2 importacion del dataset\n",
    "\n",
    "*En el entorno real el dataset deberia descargarse de GCS en formato parquet y unirse con el analisis de sentimiento ya realizado y guardado en local*"
   ]
  },
  {
   "cell_type": "code",
   "execution_count": 3,
   "id": "4e808875",
   "metadata": {},
   "outputs": [],
   "source": [
    "modelo=pd.read_csv(r'C:\\Users\\ruizr\\Desktop\\datos\\data_limpia\\final.csv')"
   ]
  },
  {
   "cell_type": "code",
   "execution_count": 4,
   "id": "a9f7930e",
   "metadata": {},
   "outputs": [
    {
     "name": "stdout",
     "output_type": "stream",
     "text": [
      "<class 'pandas.core.frame.DataFrame'>\n",
      "RangeIndex: 5358 entries, 0 to 5357\n",
      "Data columns (total 83 columns):\n",
      " #   Column                      Non-Null Count  Dtype  \n",
      "---  ------                      --------------  -----  \n",
      " 0   Unnamed: 0                  5358 non-null   int64  \n",
      " 1   business_id                 5358 non-null   int64  \n",
      " 2   business_name               5358 non-null   object \n",
      " 3   address                     5358 non-null   object \n",
      " 4   county_id                   5358 non-null   int64  \n",
      " 5   latitude                    5358 non-null   float64\n",
      " 6   longitude                   5358 non-null   float64\n",
      " 7   AcceptsInsurance            5358 non-null   int64  \n",
      " 8   AgesAllowed                 5358 non-null   int64  \n",
      " 9   Alcohol                     5358 non-null   int64  \n",
      " 10  ambience_romantic           5358 non-null   int64  \n",
      " 11  ambience_intimate           5358 non-null   int64  \n",
      " 12  ambience_classy             5358 non-null   int64  \n",
      " 13  ambience_hipster            5358 non-null   int64  \n",
      " 14  ambience_divey              5358 non-null   int64  \n",
      " 15  ambience_touristy           5358 non-null   int64  \n",
      " 16  ambience_trendy             5358 non-null   int64  \n",
      " 17  ambience_upscale            5358 non-null   int64  \n",
      " 18  ambience_casual             5358 non-null   int64  \n",
      " 19  BYOB                        5358 non-null   int64  \n",
      " 20  BYOBCorkage                 5358 non-null   int64  \n",
      " 21  bestnight_friday            5358 non-null   int64  \n",
      " 22  bestnight_saturday          5358 non-null   int64  \n",
      " 23  bestnight_sunday            5358 non-null   int64  \n",
      " 24  BikeParking                 5358 non-null   int64  \n",
      " 25  BusinessAcceptsBitcoin      5358 non-null   int64  \n",
      " 26  BusinessAcceptsCreditCards  5358 non-null   int64  \n",
      " 27  parking_garage              5358 non-null   int64  \n",
      " 28  parking_street              5358 non-null   int64  \n",
      " 29  parking_validated           5358 non-null   int64  \n",
      " 30  parking_lot                 5358 non-null   int64  \n",
      " 31  parking_valet               5358 non-null   int64  \n",
      " 32  ByAppointmentOnly           5358 non-null   int64  \n",
      " 33  Caters                      5358 non-null   int64  \n",
      " 34  CoatCheck                   5358 non-null   int64  \n",
      " 35  Corkage                     5358 non-null   int64  \n",
      " 36  dietary_vegan               5358 non-null   int64  \n",
      " 37  dietary_gluten_free         5358 non-null   int64  \n",
      " 38  DogsAllowed                 5358 non-null   int64  \n",
      " 39  DriveThru                   5358 non-null   int64  \n",
      " 40  GoodForDancing              5358 non-null   int64  \n",
      " 41  GoodForKids                 5358 non-null   int64  \n",
      " 42  meal_dessert                5358 non-null   int64  \n",
      " 43  meal_latenight              5358 non-null   int64  \n",
      " 44  meal_lunch                  5358 non-null   int64  \n",
      " 45  meal_dinner                 5358 non-null   int64  \n",
      " 46  meal_brunch                 5358 non-null   int64  \n",
      " 47  meal_breakfast              5358 non-null   int64  \n",
      " 48  HairSpecializesIn           5358 non-null   int64  \n",
      " 49  HappyHour                   5358 non-null   int64  \n",
      " 50  HasTV                       5358 non-null   int64  \n",
      " 51  music_dj                    5358 non-null   int64  \n",
      " 52  music_background            5358 non-null   int64  \n",
      " 53  NoiseLevel                  5358 non-null   int64  \n",
      " 54  Open24Hours                 5358 non-null   int64  \n",
      " 55  OutdoorSeating              5358 non-null   int64  \n",
      " 56  RestaurantsAttire           5358 non-null   int64  \n",
      " 57  RestaurantsCounterService   5358 non-null   int64  \n",
      " 58  RestaurantsDelivery         5358 non-null   int64  \n",
      " 59  RestaurantsGoodForGroups    5358 non-null   int64  \n",
      " 60  RestaurantsPriceRange2      5358 non-null   int64  \n",
      " 61  RestaurantsReservations     5358 non-null   int64  \n",
      " 62  RestaurantsTableService     5358 non-null   int64  \n",
      " 63  RestaurantsTakeOut          5358 non-null   int64  \n",
      " 64  Smoking                     5358 non-null   int64  \n",
      " 65  WheelchairAccessible        5358 non-null   int64  \n",
      " 66  WiFi                        5358 non-null   int64  \n",
      " 67  id                          5358 non-null   int64  \n",
      " 68  county                      5358 non-null   object \n",
      " 69  poblacion_total             5358 non-null   int64  \n",
      " 70  hombres_total               5358 non-null   int64  \n",
      " 71  mujeres_total               5358 non-null   int64  \n",
      " 72  edad_media                  5358 non-null   float64\n",
      " 73  hombres_solos               5358 non-null   int64  \n",
      " 74  mujeres_solas               5358 non-null   int64  \n",
      " 75  id_review                   5358 non-null   int64  \n",
      " 76  stars                       5358 non-null   int64  \n",
      " 77  review_date                 5358 non-null   object \n",
      " 78  text_review                 5358 non-null   object \n",
      " 79  positive_sentiment          5358 non-null   int64  \n",
      " 80  neutral_sentiment           5358 non-null   int64  \n",
      " 81  negative_sentiment          5358 non-null   int64  \n",
      " 82  negativ_sentiment           5358 non-null   int64  \n",
      "dtypes: float64(3), int64(75), object(5)\n",
      "memory usage: 3.4+ MB\n"
     ]
    }
   ],
   "source": [
    "modelo.info()"
   ]
  },
  {
   "cell_type": "markdown",
   "id": "863c2578",
   "metadata": {},
   "source": [
    "2.2 Creacion de las metricas necesarias para definir la variable exito\n",
    "\n",
    "- *Contar total de reseñas por negocio*"
   ]
  },
  {
   "cell_type": "code",
   "execution_count": 5,
   "id": "5d5315bd",
   "metadata": {},
   "outputs": [],
   "source": [
    "resenas_totales = modelo.groupby('business_id')['text_review'].count()"
   ]
  },
  {
   "cell_type": "code",
   "execution_count": 6,
   "id": "ea45a165",
   "metadata": {},
   "outputs": [
    {
     "data": {
      "text/plain": [
       "np.int64(475)"
      ]
     },
     "execution_count": 6,
     "metadata": {},
     "output_type": "execute_result"
    }
   ],
   "source": [
    "resenas_totales.max()"
   ]
  },
  {
   "cell_type": "markdown",
   "id": "c2e6852e",
   "metadata": {},
   "source": [
    "- *Contar reseñas positivas por negocio*"
   ]
  },
  {
   "cell_type": "code",
   "execution_count": 7,
   "id": "cab3e8e1",
   "metadata": {},
   "outputs": [],
   "source": [
    "resenas_positivas = modelo[modelo['positive_sentiment'] == 1].groupby('business_id')['text_review'].count()"
   ]
  },
  {
   "cell_type": "code",
   "execution_count": 8,
   "id": "6e57d0a3",
   "metadata": {},
   "outputs": [
    {
     "data": {
      "text/plain": [
       "np.int64(458)"
      ]
     },
     "execution_count": 8,
     "metadata": {},
     "output_type": "execute_result"
    }
   ],
   "source": [
    "resenas_positivas.max()\n"
   ]
  },
  {
   "cell_type": "markdown",
   "id": "0df33b66",
   "metadata": {},
   "source": [
    "- *Calcular porcentaje de reseñas positivas*"
   ]
  },
  {
   "cell_type": "code",
   "execution_count": 9,
   "id": "842cd8e0",
   "metadata": {},
   "outputs": [],
   "source": [
    "porcentaje_positivas = (resenas_positivas / resenas_totales).fillna(0)"
   ]
  },
  {
   "cell_type": "code",
   "execution_count": 10,
   "id": "0fb93504",
   "metadata": {},
   "outputs": [
    {
     "data": {
      "text/plain": [
       "business_id\n",
       "1      0.600000\n",
       "2      0.621622\n",
       "3      0.444444\n",
       "4      0.500000\n",
       "5      0.705882\n",
       "         ...   \n",
       "254    1.000000\n",
       "255    1.000000\n",
       "256    1.000000\n",
       "257    1.000000\n",
       "258    0.500000\n",
       "Name: text_review, Length: 258, dtype: float64"
      ]
     },
     "execution_count": 10,
     "metadata": {},
     "output_type": "execute_result"
    }
   ],
   "source": [
    "porcentaje_positivas"
   ]
  },
  {
   "cell_type": "markdown",
   "id": "9b7ee931",
   "metadata": {},
   "source": [
    "- *Crear una columna auxiliar con el porcentaje*"
   ]
  },
  {
   "cell_type": "code",
   "execution_count": 10,
   "id": "040060c1",
   "metadata": {},
   "outputs": [],
   "source": [
    "modelo['porcentaje_positivas'] = modelo['business_id'].map(porcentaje_positivas)"
   ]
  },
  {
   "cell_type": "markdown",
   "id": "9320dadf",
   "metadata": {},
   "source": [
    "### *Definicion de la variable \"exito\"*"
   ]
  },
  {
   "cell_type": "code",
   "execution_count": 11,
   "id": "e6950ffe",
   "metadata": {},
   "outputs": [],
   "source": [
    "modelo['exito'] = (\n",
    "    (modelo['stars'] >= 4.5) &\n",
    "    (modelo['business_id'].map(resenas_totales) > 100)\n",
    "   ).astype(int)"
   ]
  },
  {
   "cell_type": "markdown",
   "id": "3072996d",
   "metadata": {},
   "source": [
    "- Se generan nuevas variables a partir de metricas entre otras columnas "
   ]
  },
  {
   "cell_type": "code",
   "execution_count": 12,
   "id": "8d5a01c0",
   "metadata": {},
   "outputs": [],
   "source": [
    "modelo['locales_en_condado'] = modelo.groupby('county_id')['business_id'].transform('count')\n"
   ]
  },
  {
   "cell_type": "code",
   "execution_count": 13,
   "id": "71cb938f",
   "metadata": {},
   "outputs": [],
   "source": [
    "modelo['locales_por_1000hab'] = (modelo['locales_en_condado'] / modelo['poblacion_total']) * 1000\n"
   ]
  },
  {
   "cell_type": "code",
   "execution_count": 14,
   "id": "d93cd540",
   "metadata": {},
   "outputs": [],
   "source": [
    "modelo['prom_stars_condado'] = modelo.groupby('county_id')['stars'].transform('mean')\n"
   ]
  },
  {
   "cell_type": "code",
   "execution_count": 15,
   "id": "db3ecd75",
   "metadata": {},
   "outputs": [],
   "source": [
    "resenas_por_condado = modelo.groupby('county_id')['text_review'].count()\n",
    "modelo['prom_resenas_condado'] = modelo['county_id'].map(resenas_por_condado / modelo['locales_en_condado'])\n"
   ]
  },
  {
   "cell_type": "code",
   "execution_count": 16,
   "id": "1fd5b698",
   "metadata": {},
   "outputs": [
    {
     "data": {
      "text/plain": [
       "np.int64(501)"
      ]
     },
     "execution_count": 16,
     "metadata": {},
     "output_type": "execute_result"
    }
   ],
   "source": [
    "resenas_por_condado.max()"
   ]
  },
  {
   "cell_type": "code",
   "execution_count": 17,
   "id": "efb1540c",
   "metadata": {},
   "outputs": [],
   "source": [
    "modelo['porc_positivas_condado'] = modelo.groupby('county_id')['positive_sentiment'].transform('mean')\n"
   ]
  },
  {
   "cell_type": "code",
   "execution_count": 18,
   "id": "69d63762",
   "metadata": {},
   "outputs": [
    {
     "data": {
      "text/plain": [
       "0       0.533333\n",
       "1       0.533333\n",
       "2       0.533333\n",
       "3       0.533333\n",
       "4       0.533333\n",
       "          ...   \n",
       "5353    0.457627\n",
       "5354    0.518987\n",
       "5355    0.518987\n",
       "5356    0.666667\n",
       "5357    0.666667\n",
       "Name: porc_positivas_condado, Length: 5358, dtype: float64"
      ]
     },
     "execution_count": 18,
     "metadata": {},
     "output_type": "execute_result"
    }
   ],
   "source": [
    "modelo['porc_positivas_condado']"
   ]
  },
  {
   "cell_type": "markdown",
   "id": "c86fef1a",
   "metadata": {},
   "source": [
    "### *Mediante graficos se busca visualizar aquellas variables que tenen mas correlacion con la variable objetivo 'EXITO'*"
   ]
  },
  {
   "cell_type": "code",
   "execution_count": null,
   "id": "3455eec9",
   "metadata": {},
   "outputs": [
    {
     "name": "stdout",
     "output_type": "stream",
     "text": [
      " Variables más correlacionadas con ÉXITO (%):\n",
      "              Variable  Correlación con Éxito  Correlación con Éxito (%)\n",
      "    locales_en_condado               0.711592                      71.16\n",
      "  prom_resenas_condado               0.710315                      71.03\n",
      "    prom_stars_condado               0.549834                      54.98\n",
      "porc_positivas_condado               0.518512                      51.85\n",
      "  porcentaje_positivas               0.445363                      44.54\n",
      "                 stars               0.432632                      43.26\n",
      "           GoodForKids               0.330384                      33.04\n",
      "           AgesAllowed               0.284786                      28.48\n",
      "                Caters               0.273137                      27.31\n",
      "           meal_dinner               0.258829                      25.88\n",
      "              music_dj               0.256271                      25.63\n",
      "    positive_sentiment               0.252165                      25.22\n",
      "            meal_lunch               0.248649                      24.86\n",
      "        ambience_divey               0.245284                      24.53\n",
      "   dietary_gluten_free               0.234389                      23.44\n",
      "   RestaurantsDelivery               0.231283                      23.13\n",
      "        OutdoorSeating               0.216468                      21.65\n",
      "               Alcohol               0.212769                      21.28\n",
      "        meal_breakfast               0.211623                      21.16\n",
      "      bestnight_friday               0.206195                      20.62\n"
     ]
    }
   ],
   "source": [
    "# Filtrarcolumnas numéricas\n",
    "numericas = modelo.select_dtypes(include=['int64', 'float64'])\n",
    "\n",
    "# matriz de correlación\n",
    "correlacion = numericas.corr()\n",
    "\n",
    "# extraer solo la correlación con la variable objetivo 'exito'\n",
    "correlacion_exito = correlacion['exito'].drop('exito').sort_values(ascending=False)\n",
    "\n",
    "# mostrar como tabla en porcentaje\n",
    "tabla_correlacion = correlacion_exito.to_frame().reset_index()\n",
    "tabla_correlacion.columns = ['Variable', 'Correlación con Éxito']\n",
    "tabla_correlacion['Correlación con Éxito (%)'] = (tabla_correlacion['Correlación con Éxito'] * 100).round(2)\n",
    "\n",
    "# top 20 más correlacionadas\n",
    "print(\" Variables más correlacionadas con ÉXITO (%):\")\n",
    "print(tabla_correlacion.head(20).to_string(index=False))\n"
   ]
  },
  {
   "cell_type": "code",
   "execution_count": 20,
   "id": "876fc3a1",
   "metadata": {},
   "outputs": [
    {
     "name": "stdout",
     "output_type": "stream",
     "text": [
      "Correlación de las variables numéricas con 'exito':\n",
      "\n",
      "exito                     1.000000\n",
      "locales_en_condado        0.711592\n",
      "prom_resenas_condado      0.710315\n",
      "prom_stars_condado        0.549834\n",
      "porc_positivas_condado    0.518512\n",
      "porcentaje_positivas      0.445363\n",
      "stars                     0.432632\n",
      "GoodForKids               0.330384\n",
      "AgesAllowed               0.284786\n",
      "Caters                    0.273137\n",
      "meal_dinner               0.258829\n",
      "music_dj                  0.256271\n",
      "positive_sentiment        0.252165\n",
      "meal_lunch                0.248649\n",
      "ambience_divey            0.245284\n",
      "dietary_gluten_free       0.234389\n",
      "RestaurantsDelivery       0.231283\n",
      "OutdoorSeating            0.216468\n",
      "Alcohol                   0.212769\n",
      "meal_breakfast            0.211623\n",
      "bestnight_friday          0.206195\n",
      "CoatCheck                 0.205020\n",
      "bestnight_saturday        0.203367\n",
      "GoodForDancing            0.189226\n",
      "ambience_trendy           0.187674\n",
      "meal_latenight            0.186594\n",
      "RestaurantsAttire         0.175026\n",
      "latitude                  0.162930\n",
      "meal_dessert              0.160963\n",
      "HasTV                     0.159193\n",
      "Name: exito, dtype: float64\n"
     ]
    },
    {
     "data": {
      "image/png": "[encoded data removed]",
      "text/plain": [
       "<Figure size 1200x1000 with 2 Axes>"
      ]
     },
     "metadata": {},
     "output_type": "display_data"
    }
   ],
   "source": [
    "numericas = modelo.select_dtypes(include=['int64', 'float64'])\n",
    "correlacion = numericas.corr()\n",
    "correlacion_exito = correlacion['exito'].sort_values(ascending=False)\n",
    "\n",
    "# Correlaciones más relevantes\n",
    "print(\"Correlación de las variables numéricas con 'exito':\\n\")\n",
    "print(correlacion_exito.head(30))\n",
    "# heatmap\n",
    "plt.figure(figsize=(12, 10))\n",
    "sns.heatmap(correlacion[['exito']].sort_values(by='exito', ascending=False), \n",
    "            annot=True, cmap=\"coolwarm\", center=0)\n",
    "\n",
    "plt.title(\"Correlación de variables numéricas con 'exito'\")\n",
    "plt.show()\n"
   ]
  },
  {
   "cell_type": "markdown",
   "id": "f8c2a4f3",
   "metadata": {},
   "source": [
    "- *Se utilizara RandomForestClassifier para seleccionar las columnas realmente correlacinadas con \"Exito\"*"
   ]
  },
  {
   "cell_type": "markdown",
   "id": "603f09fe",
   "metadata": {},
   "source": [
    "- *Se excluyen conlumnas de tipo object*"
   ]
  },
  {
   "cell_type": "code",
   "execution_count": 21,
   "id": "68f36487",
   "metadata": {},
   "outputs": [],
   "source": [
    "columnas_a_excluir =['Unnamed: 0','business_id','id','id_review','business_name','address','county','county_id','review_date','text_review','exito']\n",
    "X = modelo.drop(columns=columnas_a_excluir)\n",
    "y = modelo['exito']\n"
   ]
  },
  {
   "cell_type": "markdown",
   "id": "782c4093",
   "metadata": {},
   "source": [
    "- *Se separan los datos para entrenar , y testear*"
   ]
  },
  {
   "cell_type": "code",
   "execution_count": 22,
   "id": "8b0c0e62",
   "metadata": {},
   "outputs": [],
   "source": [
    "X_train, X_test, y_train, y_test = train_test_split(X, y, test_size=0.2, random_state=42)\n"
   ]
  },
  {
   "cell_type": "markdown",
   "id": "788e5be8",
   "metadata": {},
   "source": [
    "- *Se inicializa el modelo*"
   ]
  },
  {
   "cell_type": "code",
   "execution_count": 23,
   "id": "6f2617ab",
   "metadata": {},
   "outputs": [
    {
     "data": {
      "text/html": [
       "<style>#sk-container-id-1 {\n",
       "  /* Definition of color scheme common for light and dark mode */\n",
       "  --sklearn-color-text: #000;\n",
       "  --sklearn-color-text-muted: #666;\n",
       "  --sklearn-color-line: gray;\n",
       "  /* Definition of color scheme for unfitted estimators */\n",
       "  --sklearn-color-unfitted-level-0: #fff5e6;\n",
       "  --sklearn-color-unfitted-level-1: #f6e4d2;\n",
       "  --sklearn-color-unfitted-level-2: #ffe0b3;\n",
       "  --sklearn-color-unfitted-level-3: chocolate;\n",
       "  /* Definition of color scheme for fitted estimators */\n",
       "  --sklearn-color-fitted-level-0: #f0f8ff;\n",
       "  --sklearn-color-fitted-level-1: #d4ebff;\n",
       "  --sklearn-color-fitted-level-2: #b3dbfd;\n",
       "  --sklearn-color-fitted-level-3: cornflowerblue;\n",
       "\n",
       "  /* Specific color for light theme */\n",
       "  --sklearn-color-text-on-default-background: var(--sg-text-color, var(--theme-code-foreground, var(--jp-content-font-color1, black)));\n",
       "  --sklearn-color-background: var(--sg-background-color, var(--theme-background, var(--jp-layout-color0, white)));\n",
       "  --sklearn-color-border-box: var(--sg-text-color, var(--theme-code-foreground, var(--jp-content-font-color1, black)));\n",
       "  --sklearn-color-icon: #696969;\n",
       "\n",
       "  @media (prefers-color-scheme: dark) {\n",
       "    /* Redefinition of color scheme for dark theme */\n",
       "    --sklearn-color-text-on-default-background: var(--sg-text-color, var(--theme-code-foreground, var(--jp-content-font-color1, white)));\n",
       "    --sklearn-color-background: var(--sg-background-color, var(--theme-background, var(--jp-layout-color0, #111)));\n",
       "    --sklearn-color-border-box: var(--sg-text-color, var(--theme-code-foreground, var(--jp-content-font-color1, white)));\n",
       "    --sklearn-color-icon: #878787;\n",
       "  }\n",
       "}\n",
       "\n",
       "#sk-container-id-1 {\n",
       "  color: var(--sklearn-color-text);\n",
       "}\n",
       "\n",
       "#sk-container-id-1 pre {\n",
       "  padding: 0;\n",
       "}\n",
       "\n",
       "#sk-container-id-1 input.sk-hidden--visually {\n",
       "  border: 0;\n",
       "  clip: rect(1px 1px 1px 1px);\n",
       "  clip: rect(1px, 1px, 1px, 1px);\n",
       "  height: 1px;\n",
       "  margin: -1px;\n",
       "  overflow: hidden;\n",
       "  padding: 0;\n",
       "  position: absolute;\n",
       "  width: 1px;\n",
       "}\n",
       "\n",
       "#sk-container-id-1 div.sk-dashed-wrapped {\n",
       "  border: 1px dashed var(--sklearn-color-line);\n",
       "  margin: 0 0.4em 0.5em 0.4em;\n",
       "  box-sizing: border-box;\n",
       "  padding-bottom: 0.4em;\n",
       "  background-color: var(--sklearn-color-background);\n",
       "}\n",
       "\n",
       "#sk-container-id-1 div.sk-container {\n",
       "  /* jupyter's `normalize.less` sets `[hidden] { display: none; }`\n",
       "     but bootstrap.min.css set `[hidden] { display: none !important; }`\n",
       "     so we also need the `!important` here to be able to override the\n",
       "     default hidden behavior on the sphinx rendered scikit-learn.org.\n",
       "     See: https://github.com/scikit-learn/scikit-learn/issues/21755 */\n",
       "  display: inline-block !important;\n",
       "  position: relative;\n",
       "}\n",
       "\n",
       "#sk-container-id-1 div.sk-text-repr-fallback {\n",
       "  display: none;\n",
       "}\n",
       "\n",
       "div.sk-parallel-item,\n",
       "div.sk-serial,\n",
       "div.sk-item {\n",
       "  /* draw centered vertical line to link estimators */\n",
       "  background-image: linear-gradient(var(--sklearn-color-text-on-default-background), var(--sklearn-color-text-on-default-background));\n",
       "  background-size: 2px 100%;\n",
       "  background-repeat: no-repeat;\n",
       "  background-position: center center;\n",
       "}\n",
       "\n",
       "/* Parallel-specific style estimator block */\n",
       "\n",
       "#sk-container-id-1 div.sk-parallel-item::after {\n",
       "  content: \"\";\n",
       "  width: 100%;\n",
       "  border-bottom: 2px solid var(--sklearn-color-text-on-default-background);\n",
       "  flex-grow: 1;\n",
       "}\n",
       "\n",
       "#sk-container-id-1 div.sk-parallel {\n",
       "  display: flex;\n",
       "  align-items: stretch;\n",
       "  justify-content: center;\n",
       "  background-color: var(--sklearn-color-background);\n",
       "  position: relative;\n",
       "}\n",
       "\n",
       "#sk-container-id-1 div.sk-parallel-item {\n",
       "  display: flex;\n",
       "  flex-direction: column;\n",
       "}\n",
       "\n",
       "#sk-container-id-1 div.sk-parallel-item:first-child::after {\n",
       "  align-self: flex-end;\n",
       "  width: 50%;\n",
       "}\n",
       "\n",
       "#sk-container-id-1 div.sk-parallel-item:last-child::after {\n",
       "  align-self: flex-start;\n",
       "  width: 50%;\n",
       "}\n",
       "\n",
       "#sk-container-id-1 div.sk-parallel-item:only-child::after {\n",
       "  width: 0;\n",
       "}\n",
       "\n",
       "/* Serial-specific style estimator block */\n",
       "\n",
       "#sk-container-id-1 div.sk-serial {\n",
       "  display: flex;\n",
       "  flex-direction: column;\n",
       "  align-items: center;\n",
       "  background-color: var(--sklearn-color-background);\n",
       "  padding-right: 1em;\n",
       "  padding-left: 1em;\n",
       "}\n",
       "\n",
       "\n",
       "/* Toggleable style: style used for estimator/Pipeline/ColumnTransformer box that is\n",
       "clickable and can be expanded/collapsed.\n",
       "- Pipeline and ColumnTransformer use this feature and define the default style\n",
       "- Estimators will overwrite some part of the style using the `sk-estimator` class\n",
       "*/\n",
       "\n",
       "/* Pipeline and ColumnTransformer style (default) */\n",
       "\n",
       "#sk-container-id-1 div.sk-toggleable {\n",
       "  /* Default theme specific background. It is overwritten whether we have a\n",
       "  specific estimator or a Pipeline/ColumnTransformer */\n",
       "  background-color: var(--sklearn-color-background);\n",
       "}\n",
       "\n",
       "/* Toggleable label */\n",
       "#sk-container-id-1 label.sk-toggleable__label {\n",
       "  cursor: pointer;\n",
       "  display: flex;\n",
       "  width: 100%;\n",
       "  margin-bottom: 0;\n",
       "  padding: 0.5em;\n",
       "  box-sizing: border-box;\n",
       "  text-align: center;\n",
       "  align-items: start;\n",
       "  justify-content: space-between;\n",
       "  gap: 0.5em;\n",
       "}\n",
       "\n",
       "#sk-container-id-1 label.sk-toggleable__label .caption {\n",
       "  font-size: 0.6rem;\n",
       "  font-weight: lighter;\n",
       "  color: var(--sklearn-color-text-muted);\n",
       "}\n",
       "\n",
       "#sk-container-id-1 label.sk-toggleable__label-arrow:before {\n",
       "  /* Arrow on the left of the label */\n",
       "  content: \"▸\";\n",
       "  float: left;\n",
       "  margin-right: 0.25em;\n",
       "  color: var(--sklearn-color-icon);\n",
       "}\n",
       "\n",
       "#sk-container-id-1 label.sk-toggleable__label-arrow:hover:before {\n",
       "  color: var(--sklearn-color-text);\n",
       "}\n",
       "\n",
       "/* Toggleable content - dropdown */\n",
       "\n",
       "#sk-container-id-1 div.sk-toggleable__content {\n",
       "  max-height: 0;\n",
       "  max-width: 0;\n",
       "  overflow: hidden;\n",
       "  text-align: left;\n",
       "  /* unfitted */\n",
       "  background-color: var(--sklearn-color-unfitted-level-0);\n",
       "}\n",
       "\n",
       "#sk-container-id-1 div.sk-toggleable__content.fitted {\n",
       "  /* fitted */\n",
       "  background-color: var(--sklearn-color-fitted-level-0);\n",
       "}\n",
       "\n",
       "#sk-container-id-1 div.sk-toggleable__content pre {\n",
       "  margin: 0.2em;\n",
       "  border-radius: 0.25em;\n",
       "  color: var(--sklearn-color-text);\n",
       "  /* unfitted */\n",
       "  background-color: var(--sklearn-color-unfitted-level-0);\n",
       "}\n",
       "\n",
       "#sk-container-id-1 div.sk-toggleable__content.fitted pre {\n",
       "  /* unfitted */\n",
       "  background-color: var(--sklearn-color-fitted-level-0);\n",
       "}\n",
       "\n",
       "#sk-container-id-1 input.sk-toggleable__control:checked~div.sk-toggleable__content {\n",
       "  /* Expand drop-down */\n",
       "  max-height: 200px;\n",
       "  max-width: 100%;\n",
       "  overflow: auto;\n",
       "}\n",
       "\n",
       "#sk-container-id-1 input.sk-toggleable__control:checked~label.sk-toggleable__label-arrow:before {\n",
       "  content: \"▾\";\n",
       "}\n",
       "\n",
       "/* Pipeline/ColumnTransformer-specific style */\n",
       "\n",
       "#sk-container-id-1 div.sk-label input.sk-toggleable__control:checked~label.sk-toggleable__label {\n",
       "  color: var(--sklearn-color-text);\n",
       "  background-color: var(--sklearn-color-unfitted-level-2);\n",
       "}\n",
       "\n",
       "#sk-container-id-1 div.sk-label.fitted input.sk-toggleable__control:checked~label.sk-toggleable__label {\n",
       "  background-color: var(--sklearn-color-fitted-level-2);\n",
       "}\n",
       "\n",
       "/* Estimator-specific style */\n",
       "\n",
       "/* Colorize estimator box */\n",
       "#sk-container-id-1 div.sk-estimator input.sk-toggleable__control:checked~label.sk-toggleable__label {\n",
       "  /* unfitted */\n",
       "  background-color: var(--sklearn-color-unfitted-level-2);\n",
       "}\n",
       "\n",
       "#sk-container-id-1 div.sk-estimator.fitted input.sk-toggleable__control:checked~label.sk-toggleable__label {\n",
       "  /* fitted */\n",
       "  background-color: var(--sklearn-color-fitted-level-2);\n",
       "}\n",
       "\n",
       "#sk-container-id-1 div.sk-label label.sk-toggleable__label,\n",
       "#sk-container-id-1 div.sk-label label {\n",
       "  /* The background is the default theme color */\n",
       "  color: var(--sklearn-color-text-on-default-background);\n",
       "}\n",
       "\n",
       "/* On hover, darken the color of the background */\n",
       "#sk-container-id-1 div.sk-label:hover label.sk-toggleable__label {\n",
       "  color: var(--sklearn-color-text);\n",
       "  background-color: var(--sklearn-color-unfitted-level-2);\n",
       "}\n",
       "\n",
       "/* Label box, darken color on hover, fitted */\n",
       "#sk-container-id-1 div.sk-label.fitted:hover label.sk-toggleable__label.fitted {\n",
       "  color: var(--sklearn-color-text);\n",
       "  background-color: var(--sklearn-color-fitted-level-2);\n",
       "}\n",
       "\n",
       "/* Estimator label */\n",
       "\n",
       "#sk-container-id-1 div.sk-label label {\n",
       "  font-family: monospace;\n",
       "  font-weight: bold;\n",
       "  display: inline-block;\n",
       "  line-height: 1.2em;\n",
       "}\n",
       "\n",
       "#sk-container-id-1 div.sk-label-container {\n",
       "  text-align: center;\n",
       "}\n",
       "\n",
       "/* Estimator-specific */\n",
       "#sk-container-id-1 div.sk-estimator {\n",
       "  font-family: monospace;\n",
       "  border: 1px dotted var(--sklearn-color-border-box);\n",
       "  border-radius: 0.25em;\n",
       "  box-sizing: border-box;\n",
       "  margin-bottom: 0.5em;\n",
       "  /* unfitted */\n",
       "  background-color: var(--sklearn-color-unfitted-level-0);\n",
       "}\n",
       "\n",
       "#sk-container-id-1 div.sk-estimator.fitted {\n",
       "  /* fitted */\n",
       "  background-color: var(--sklearn-color-fitted-level-0);\n",
       "}\n",
       "\n",
       "/* on hover */\n",
       "#sk-container-id-1 div.sk-estimator:hover {\n",
       "  /* unfitted */\n",
       "  background-color: var(--sklearn-color-unfitted-level-2);\n",
       "}\n",
       "\n",
       "#sk-container-id-1 div.sk-estimator.fitted:hover {\n",
       "  /* fitted */\n",
       "  background-color: var(--sklearn-color-fitted-level-2);\n",
       "}\n",
       "\n",
       "/* Specification for estimator info (e.g. \"i\" and \"?\") */\n",
       "\n",
       "/* Common style for \"i\" and \"?\" */\n",
       "\n",
       ".sk-estimator-doc-link,\n",
       "a:link.sk-estimator-doc-link,\n",
       "a:visited.sk-estimator-doc-link {\n",
       "  float: right;\n",
       "  font-size: smaller;\n",
       "  line-height: 1em;\n",
       "  font-family: monospace;\n",
       "  background-color: var(--sklearn-color-background);\n",
       "  border-radius: 1em;\n",
       "  height: 1em;\n",
       "  width: 1em;\n",
       "  text-decoration: none !important;\n",
       "  margin-left: 0.5em;\n",
       "  text-align: center;\n",
       "  /* unfitted */\n",
       "  border: var(--sklearn-color-unfitted-level-1) 1pt solid;\n",
       "  color: var(--sklearn-color-unfitted-level-1);\n",
       "}\n",
       "\n",
       ".sk-estimator-doc-link.fitted,\n",
       "a:link.sk-estimator-doc-link.fitted,\n",
       "a:visited.sk-estimator-doc-link.fitted {\n",
       "  /* fitted */\n",
       "  border: var(--sklearn-color-fitted-level-1) 1pt solid;\n",
       "  color: var(--sklearn-color-fitted-level-1);\n",
       "}\n",
       "\n",
       "/* On hover */\n",
       "div.sk-estimator:hover .sk-estimator-doc-link:hover,\n",
       ".sk-estimator-doc-link:hover,\n",
       "div.sk-label-container:hover .sk-estimator-doc-link:hover,\n",
       ".sk-estimator-doc-link:hover {\n",
       "  /* unfitted */\n",
       "  background-color: var(--sklearn-color-unfitted-level-3);\n",
       "  color: var(--sklearn-color-background);\n",
       "  text-decoration: none;\n",
       "}\n",
       "\n",
       "div.sk-estimator.fitted:hover .sk-estimator-doc-link.fitted:hover,\n",
       ".sk-estimator-doc-link.fitted:hover,\n",
       "div.sk-label-container:hover .sk-estimator-doc-link.fitted:hover,\n",
       ".sk-estimator-doc-link.fitted:hover {\n",
       "  /* fitted */\n",
       "  background-color: var(--sklearn-color-fitted-level-3);\n",
       "  color: var(--sklearn-color-background);\n",
       "  text-decoration: none;\n",
       "}\n",
       "\n",
       "/* Span, style for the box shown on hovering the info icon */\n",
       ".sk-estimator-doc-link span {\n",
       "  display: none;\n",
       "  z-index: 9999;\n",
       "  position: relative;\n",
       "  font-weight: normal;\n",
       "  right: .2ex;\n",
       "  padding: .5ex;\n",
       "  margin: .5ex;\n",
       "  width: min-content;\n",
       "  min-width: 20ex;\n",
       "  max-width: 50ex;\n",
       "  color: var(--sklearn-color-text);\n",
       "  box-shadow: 2pt 2pt 4pt #999;\n",
       "  /* unfitted */\n",
       "  background: var(--sklearn-color-unfitted-level-0);\n",
       "  border: .5pt solid var(--sklearn-color-unfitted-level-3);\n",
       "}\n",
       "\n",
       ".sk-estimator-doc-link.fitted span {\n",
       "  /* fitted */\n",
       "  background: var(--sklearn-color-fitted-level-0);\n",
       "  border: var(--sklearn-color-fitted-level-3);\n",
       "}\n",
       "\n",
       ".sk-estimator-doc-link:hover span {\n",
       "  display: block;\n",
       "}\n",
       "\n",
       "/* \"?\"-specific style due to the `<a>` HTML tag */\n",
       "\n",
       "#sk-container-id-1 a.estimator_doc_link {\n",
       "  float: right;\n",
       "  font-size: 1rem;\n",
       "  line-height: 1em;\n",
       "  font-family: monospace;\n",
       "  background-color: var(--sklearn-color-background);\n",
       "  border-radius: 1rem;\n",
       "  height: 1rem;\n",
       "  width: 1rem;\n",
       "  text-decoration: none;\n",
       "  /* unfitted */\n",
       "  color: var(--sklearn-color-unfitted-level-1);\n",
       "  border: var(--sklearn-color-unfitted-level-1) 1pt solid;\n",
       "}\n",
       "\n",
       "#sk-container-id-1 a.estimator_doc_link.fitted {\n",
       "  /* fitted */\n",
       "  border: var(--sklearn-color-fitted-level-1) 1pt solid;\n",
       "  color: var(--sklearn-color-fitted-level-1);\n",
       "}\n",
       "\n",
       "/* On hover */\n",
       "#sk-container-id-1 a.estimator_doc_link:hover {\n",
       "  /* unfitted */\n",
       "  background-color: var(--sklearn-color-unfitted-level-3);\n",
       "  color: var(--sklearn-color-background);\n",
       "  text-decoration: none;\n",
       "}\n",
       "\n",
       "#sk-container-id-1 a.estimator_doc_link.fitted:hover {\n",
       "  /* fitted */\n",
       "  background-color: var(--sklearn-color-fitted-level-3);\n",
       "}\n",
       "</style><div id=\"sk-container-id-1\" class=\"sk-top-container\"><div class=\"sk-text-repr-fallback\"><pre>RandomForestClassifier(random_state=42)</pre><b>In a Jupyter environment, please rerun this cell to show the HTML representation or trust the notebook. <br />On GitHub, the HTML representation is unable to render, please try loading this page with nbviewer.org.</b></div><div class=\"sk-container\" hidden><div class=\"sk-item\"><div class=\"sk-estimator fitted sk-toggleable\"><input class=\"sk-toggleable__control sk-hidden--visually\" id=\"sk-estimator-id-1\" type=\"checkbox\" checked><label for=\"sk-estimator-id-1\" class=\"sk-toggleable__label fitted sk-toggleable__label-arrow\"><div><div>RandomForestClassifier</div></div><div><a class=\"sk-estimator-doc-link fitted\" rel=\"noreferrer\" target=\"_blank\" href=\"https://scikit-learn.org/1.6/modules/generated/sklearn.ensemble.RandomForestClassifier.html\">?<span>Documentation for RandomForestClassifier</span></a><span class=\"sk-estimator-doc-link fitted\">i<span>Fitted</span></span></div></label><div class=\"sk-toggleable__content fitted\"><pre>RandomForestClassifier(random_state=42)</pre></div> </div></div></div></div>"
      ],
      "text/plain": [
       "RandomForestClassifier(random_state=42)"
      ]
     },
     "execution_count": 23,
     "metadata": {},
     "output_type": "execute_result"
    }
   ],
   "source": [
    "rf = RandomForestClassifier(n_estimators=100, random_state=42)\n",
    "rf.fit(X_train, y_train)\n"
   ]
  },
  {
   "cell_type": "markdown",
   "id": "a135c6a8",
   "metadata": {},
   "source": [
    "importancias = pd.Series(rf.feature_importances_, index=X.columns)\n",
    "- Convierte el array de importancias en una serie de pandas, asignándole como índice los nombres de las columnas de X (las variables predictoras).\n",
    "- Esto permite visualizar la importancia de cada característica de manera estructurada.\n",
    "\n",
    "rf.feature_importances_:\n",
    "- Este atributo de RandomForestClassifier devuelve un array con la importancia relativa de cada característica utilizada en el modelo.\n",
    "- En esencia, indica qué variables tienen más peso en la toma de decisiones del modelo.\n"
   ]
  },
  {
   "cell_type": "code",
   "execution_count": 24,
   "id": "efcc4aea",
   "metadata": {},
   "outputs": [],
   "source": [
    "importancias = pd.Series(rf.feature_importances_, index=X.columns)\n",
    "importancias = importancias.sort_values(ascending=False)\n"
   ]
  },
  {
   "cell_type": "markdown",
   "id": "72cdf7f6",
   "metadata": {},
   "source": [
    "- *Se grafica*"
   ]
  },
  {
   "cell_type": "code",
   "execution_count": 25,
   "id": "ad260205",
   "metadata": {},
   "outputs": [
    {
     "data": {
      "image/png": "[encoded data removed]",
      "text/plain": [
       "<Figure size 1000x800 with 1 Axes>"
      ]
     },
     "metadata": {},
     "output_type": "display_data"
    }
   ],
   "source": [
    "plt.figure(figsize=(10, 8))\n",
    "sns.barplot(x=importancias[:20], y=importancias.index[:20])\n",
    "plt.title(\"Importancia de las 20 principales variables\")\n",
    "plt.xlabel(\"Importancia\")\n",
    "plt.ylabel(\"Variables\")\n",
    "plt.tight_layout()\n",
    "plt.show()\n"
   ]
  },
  {
   "cell_type": "markdown",
   "id": "4bb63153",
   "metadata": {},
   "source": [
    "### *Creacion del df con las features del modelo*"
   ]
  },
  {
   "cell_type": "markdown",
   "id": "b5c6e0f2",
   "metadata": {},
   "source": [
    "-se toman solo las variables mas relacionadas con la variable exito , excluyendo: \"Stars\" y porcentaje_positivas, ya que influyen en la creacion de la variable de salida \" exito\""
   ]
  },
  {
   "cell_type": "code",
   "execution_count": 26,
   "id": "7e10ef0f",
   "metadata": {},
   "outputs": [],
   "source": [
    "X = modelo[[\n",
    "    'latitude', 'longitude','locales_en_condado','prom_resenas_condado','mujeres_total','porc_positivas_condado',\n",
    "    'hombres_solos','hombres_total','GoodForKids','HasTV','edad_media', 'locales_por_1000hab','poblacion_total', 'prom_stars_condado','Caters'\n",
    "]]\n",
    "y = modelo['exito']\n"
   ]
  },
  {
   "cell_type": "markdown",
   "id": "c8f01377",
   "metadata": {},
   "source": [
    "- *Se han analizado varias veces los modelos y se ha mejorado la precision de un 63 a un 72% en busca de llegar a un minimo de 86% se seleccionan solo las variables mas representativas*"
   ]
  },
  {
   "cell_type": "markdown",
   "id": "485bd2dd",
   "metadata": {},
   "source": [
    "- Se mide la importancia de las variables que se habian elegido para el entrenamiento de los modelos usando randomForest"
   ]
  },
  {
   "cell_type": "code",
   "execution_count": null,
   "id": "c637f980",
   "metadata": {},
   "outputs": [
    {
     "name": "stdout",
     "output_type": "stream",
     "text": [
      "                   Feature  Importancia\n",
      "3     prom_resenas_condado     0.231475\n",
      "2       locales_en_condado     0.229407\n",
      "5   porc_positivas_condado     0.140316\n",
      "1                longitude     0.095314\n",
      "8              GoodForKids     0.072941\n",
      "13      prom_stars_condado     0.069938\n",
      "0                 latitude     0.030480\n",
      "11     locales_por_1000hab     0.030446\n",
      "4            mujeres_total     0.023106\n",
      "7            hombres_total     0.021087\n",
      "12         poblacion_total     0.015809\n",
      "14                  Caters     0.011804\n",
      "10              edad_media     0.011744\n",
      "6            hombres_solos     0.009581\n",
      "9                    HasTV     0.006551\n"
     ]
    },
    {
     "data": {
      "image/png": "[encoded data removed]",
      "text/plain": [
       "<Figure size 1000x600 with 1 Axes>"
      ]
     },
     "metadata": {},
     "output_type": "display_data"
    }
   ],
   "source": [
    "X = modelo[[\n",
    " 'latitude', 'longitude','locales_en_condado','prom_resenas_condado','mujeres_total','porc_positivas_condado',\n",
    "    'hombres_solos','hombres_total','GoodForKids','HasTV','edad_media', 'locales_por_1000hab','poblacion_total', 'prom_stars_condado','Caters'\n",
    "]]\n",
    "y = modelo['exito']\n",
    "\n",
    "# Entrenar modelo base\n",
    "rf = RandomForestClassifier(random_state=42, class_weight='balanced')\n",
    "rf.fit(X, y)\n",
    "\n",
    "# Obtener importancias\n",
    "importancias = rf.feature_importances_\n",
    "features = X.columns\n",
    "\n",
    "# Mostrar en DataFrame ordenado\n",
    "importancia_df = pd.DataFrame({'Feature': features, 'Importancia': importancias})\n",
    "importancia_df = importancia_df.sort_values(by='Importancia', ascending=False)\n",
    "print(importancia_df)\n",
    "\n",
    "plt.figure(figsize=(10, 6))\n",
    "plt.barh(importancia_df['Feature'], importancia_df['Importancia'], color='teal')\n",
    "plt.xlabel(\"Importancia\")\n",
    "plt.title(\"Importancia de variables - Random Forest\")\n",
    "plt.gca().invert_yaxis()\n",
    "plt.tight_layout()\n",
    "plt.show()\n"
   ]
  },
  {
   "cell_type": "markdown",
   "id": "7065e51b",
   "metadata": {},
   "source": [
    "Se establecen nuevamente las features para los modelos"
   ]
  },
  {
   "cell_type": "code",
   "execution_count": 28,
   "id": "bd926aeb",
   "metadata": {},
   "outputs": [],
   "source": [
    "X = modelo[[\n",
    "    'latitude', 'longitude','locales_en_condado','prom_resenas_condado','mujeres_total','porc_positivas_condado','hombres_total',\n",
    "    'GoodForKids','edad_media', 'locales_por_1000hab','poblacion_total', 'prom_stars_condado','Caters'\n",
    "]]\n",
    "y = modelo['exito']\n"
   ]
  },
  {
   "cell_type": "markdown",
   "id": "31a24bbe",
   "metadata": {},
   "source": [
    "- *Hay una gran desproporcion en el dataset, 0.88 de los casos son negativos y 12 positivos, sn muy pocos casos para lograr entrenar al modelo*.\n",
    "\n",
    "### *se trabajara para balancear las clases*\n"
   ]
  },
  {
   "cell_type": "code",
   "execution_count": 60,
   "id": "6b37c579",
   "metadata": {},
   "outputs": [],
   "source": [
    "features=modelo[[\n",
    "    'latitude', 'longitude','locales_en_condado','prom_resenas_condado','mujeres_total','porc_positivas_condado','hombres_total',\n",
    "    'GoodForKids','edad_media', 'locales_por_1000hab','poblacion_total', 'prom_stars_condado','Caters','exito'\n",
    "]]"
   ]
  },
  {
   "cell_type": "code",
   "execution_count": 61,
   "id": "dbf4d1f3",
   "metadata": {},
   "outputs": [],
   "source": [
    "features.to_csv(r'C:\\Users\\ruizr\\Desktop\\datos\\data_limpia\\features.csv')"
   ]
  },
  {
   "cell_type": "code",
   "execution_count": 29,
   "id": "ed791d0d",
   "metadata": {},
   "outputs": [
    {
     "name": "stdout",
     "output_type": "stream",
     "text": [
      "exito\n",
      "0    0.879433\n",
      "1    0.120567\n",
      "Name: proportion, dtype: float64\n"
     ]
    }
   ],
   "source": [
    "print(modelo[\"exito\"].value_counts(normalize=True))\n"
   ]
  },
  {
   "cell_type": "markdown",
   "id": "4adb4eae",
   "metadata": {},
   "source": [
    "- *Separacion de los datos para entrenamiento y testeo*"
   ]
  },
  {
   "cell_type": "code",
   "execution_count": 30,
   "id": "a252e566",
   "metadata": {},
   "outputs": [],
   "source": [
    "X_train, X_test, y_train, y_test = train_test_split(X, y, test_size=0.2, random_state=42)"
   ]
  },
  {
   "cell_type": "markdown",
   "id": "f264ff6e",
   "metadata": {},
   "source": [
    "### Se probaran 3 modelos y se van a evaluar para decidir el mejor "
   ]
  },
  {
   "cell_type": "markdown",
   "id": "975588eb",
   "metadata": {},
   "source": [
    "- Normalizamos las variables con StandardScaler"
   ]
  },
  {
   "cell_type": "code",
   "execution_count": 31,
   "id": "c7dc1a2a",
   "metadata": {},
   "outputs": [],
   "source": [
    "scaler = StandardScaler()\n",
    "X_train_scaled = scaler.fit_transform(X_train)\n",
    "X_test_scaled = scaler.transform(X_test)"
   ]
  },
  {
   "cell_type": "markdown",
   "id": "b462291f",
   "metadata": {},
   "source": [
    "- *1° LogisticRegression*"
   ]
  },
  {
   "cell_type": "code",
   "execution_count": 32,
   "id": "4de67f72",
   "metadata": {},
   "outputs": [],
   "source": [
    "log_model = LogisticRegression(class_weight='balanced', max_iter=1000)\n",
    "log_model.fit(X_train_scaled, y_train)\n",
    "y_pred_log = log_model.predict(X_test_scaled)\n",
    "y_proba_log = log_model.predict_proba(X_test_scaled)[:, 1]\n"
   ]
  },
  {
   "cell_type": "markdown",
   "id": "ec37408f",
   "metadata": {},
   "source": [
    "- *2° RandomForestClassifier*"
   ]
  },
  {
   "cell_type": "code",
   "execution_count": 33,
   "id": "bfd9688a",
   "metadata": {},
   "outputs": [],
   "source": [
    "rf_model = RandomForestClassifier(class_weight='balanced', random_state=42)\n",
    "rf_model.fit(X_train, y_train)\n",
    "y_pred_rf = rf_model.predict(X_test)\n",
    "y_proba_rf = rf_model.predict_proba(X_test)[:, 1]\n"
   ]
  },
  {
   "cell_type": "markdown",
   "id": "eea42721",
   "metadata": {},
   "source": [
    "- *3° XGBClassifier*"
   ]
  },
  {
   "cell_type": "code",
   "execution_count": 53,
   "id": "7ca071a8",
   "metadata": {},
   "outputs": [],
   "source": [
    "xgb_model = XGBClassifier(scale_pos_weight=len(y_train[y_train == 0]) / len(y_train[y_train == 1]), use_label_encoder=False, eval_metric='logloss', random_state=42)\n",
    "xgb_model.fit(X_train, y_train)\n",
    "y_pred_xgb = xgb_model.predict(X_test)\n",
    "y_proba_xgb = xgb_model.predict_proba(X_test)[:, 1]\n"
   ]
  },
  {
   "cell_type": "markdown",
   "id": "c9a8af52",
   "metadata": {},
   "source": [
    "*Evaluacion de los modelos*"
   ]
  },
  {
   "cell_type": "code",
   "execution_count": 35,
   "id": "902ed7bc",
   "metadata": {},
   "outputs": [
    {
     "name": "stdout",
     "output_type": "stream",
     "text": [
      " Resultados para Regresión Logística\n",
      "              precision    recall  f1-score   support\n",
      "\n",
      "           0       1.00      0.92      0.96       938\n",
      "           1       0.63      1.00      0.77       134\n",
      "\n",
      "    accuracy                           0.93      1072\n",
      "   macro avg       0.81      0.96      0.86      1072\n",
      "weighted avg       0.95      0.93      0.93      1072\n",
      "\n",
      "Accuracy: 0.9263059701492538\n",
      "Precision: 0.6291079812206573\n",
      "Recall: 1.0\n",
      "F1 Score: 0.7723342939481268\n",
      "ROC AUC: 0.9805079082200936\n",
      "Confusion Matrix:\n",
      " [[859  79]\n",
      " [  0 134]]\n",
      "--------------------------------------------------\n",
      " Resultados para Random Forest\n",
      "              precision    recall  f1-score   support\n",
      "\n",
      "           0       1.00      0.92      0.96       938\n",
      "           1       0.63      1.00      0.77       134\n",
      "\n",
      "    accuracy                           0.93      1072\n",
      "   macro avg       0.81      0.96      0.86      1072\n",
      "weighted avg       0.95      0.93      0.93      1072\n",
      "\n",
      "Accuracy: 0.9291044776119403\n",
      "Precision: 0.638095238095238\n",
      "Recall: 1.0\n",
      "F1 Score: 0.7790697674418605\n",
      "ROC AUC: 0.9819240683575725\n",
      "Confusion Matrix:\n",
      " [[862  76]\n",
      " [  0 134]]\n",
      "--------------------------------------------------\n",
      " Resultados para XGBoost\n",
      "              precision    recall  f1-score   support\n",
      "\n",
      "           0       1.00      0.92      0.96       938\n",
      "           1       0.63      1.00      0.77       134\n",
      "\n",
      "    accuracy                           0.93      1072\n",
      "   macro avg       0.81      0.96      0.86      1072\n",
      "weighted avg       0.95      0.93      0.93      1072\n",
      "\n",
      "Accuracy: 0.9291044776119403\n",
      "Precision: 0.638095238095238\n",
      "Recall: 1.0\n",
      "F1 Score: 0.7790697674418605\n",
      "ROC AUC: 0.9819240683575725\n",
      "Confusion Matrix:\n",
      " [[862  76]\n",
      " [  0 134]]\n",
      "--------------------------------------------------\n"
     ]
    }
   ],
   "source": [
    "def evaluar_modelo(y_test, y_pred, y_proba, nombre):\n",
    "    print(f\" Resultados para {nombre}\")\n",
    "    print(classification_report(y_test, y_pred_log))\n",
    "    print(\"Accuracy:\", accuracy_score(y_test, y_pred))\n",
    "    print(\"Precision:\", precision_score(y_test, y_pred))\n",
    "    print(\"Recall:\", recall_score(y_test, y_pred))\n",
    "    print(\"F1 Score:\", f1_score(y_test, y_pred))\n",
    "    print(\"ROC AUC:\", roc_auc_score(y_test, y_proba))\n",
    "    print(\"Confusion Matrix:\\n\", confusion_matrix(y_test, y_pred))\n",
    "    print(\"-\" * 50)\n",
    "\n",
    "evaluar_modelo(y_test, y_pred_log, y_proba_log, \"Regresión Logística\")\n",
    "evaluar_modelo(y_test, y_pred_rf, y_proba_rf, \"Random Forest\")\n",
    "evaluar_modelo(y_test, y_pred_xgb, y_proba_xgb, \"XGBoost\")\n"
   ]
  },
  {
   "cell_type": "markdown",
   "id": "d34a3bfc",
   "metadata": {},
   "source": [
    "*En busquedad de mejorar la presicion se realizan los siguientes cambios:*\n",
    "* Oversampling de clase minoritaria (`resample`)\n",
    "* Ajuste del umbral de clasificación\n",
    "* Tuning manual de hiperparámetros como `scale_pos_weight`\n",
    "* Evaluación completa con métricas clave (`precision`, `recall`, `f1-score`, `roc_auc`, matriz de confusión´)"
   ]
  },
  {
   "cell_type": "markdown",
   "id": "241d0d2d",
   "metadata": {},
   "source": [
    "- Exploracion de los párametros que tine por defecto xgboots"
   ]
  },
  {
   "cell_type": "code",
   "execution_count": 39,
   "id": "25392b28",
   "metadata": {},
   "outputs": [
    {
     "data": {
      "text/plain": [
       "{'objective': 'binary:logistic',\n",
       " 'base_score': None,\n",
       " 'booster': None,\n",
       " 'callbacks': None,\n",
       " 'colsample_bylevel': None,\n",
       " 'colsample_bynode': None,\n",
       " 'colsample_bytree': None,\n",
       " 'device': None,\n",
       " 'early_stopping_rounds': None,\n",
       " 'enable_categorical': False,\n",
       " 'eval_metric': 'logloss',\n",
       " 'feature_types': None,\n",
       " 'feature_weights': None,\n",
       " 'gamma': None,\n",
       " 'grow_policy': None,\n",
       " 'importance_type': None,\n",
       " 'interaction_constraints': None,\n",
       " 'learning_rate': None,\n",
       " 'max_bin': None,\n",
       " 'max_cat_threshold': None,\n",
       " 'max_cat_to_onehot': None,\n",
       " 'max_delta_step': None,\n",
       " 'max_depth': None,\n",
       " 'max_leaves': None,\n",
       " 'min_child_weight': None,\n",
       " 'missing': nan,\n",
       " 'monotone_constraints': None,\n",
       " 'multi_strategy': None,\n",
       " 'n_estimators': None,\n",
       " 'n_jobs': None,\n",
       " 'num_parallel_tree': None,\n",
       " 'random_state': 42,\n",
       " 'reg_alpha': None,\n",
       " 'reg_lambda': None,\n",
       " 'sampling_method': None,\n",
       " 'scale_pos_weight': 7.37109375,\n",
       " 'subsample': None,\n",
       " 'tree_method': None,\n",
       " 'validate_parameters': None,\n",
       " 'verbosity': None,\n",
       " 'use_label_encoder': False}"
      ]
     },
     "execution_count": 39,
     "metadata": {},
     "output_type": "execute_result"
    }
   ],
   "source": [
    "xgb_model.get_params()"
   ]
  },
  {
   "cell_type": "markdown",
   "id": "8adb4b08",
   "metadata": {},
   "source": [
    "- Despues de varias pruebas con los valores pasados por la GridSearch se prueba el modelo, pero no se logra un buen resultado de precision"
   ]
  },
  {
   "cell_type": "code",
   "execution_count": null,
   "id": "b0347cbe",
   "metadata": {},
   "outputs": [
    {
     "name": "stdout",
     "output_type": "stream",
     "text": [
      "Fitting 5 folds for each of 72 candidates, totalling 360 fits\n",
      "Mejores parámetros: {'colsample_bytree': 0.8, 'learning_rate': 0.1, 'max_depth': 3, 'n_estimators': 300, 'scale_pos_weight': 7.294117647058823, 'subsample': 0.8}\n"
     ]
    }
   ],
   "source": [
    "# Ajuste de peso para la clase minoritaria\n",
    "scale_weight = len(y[y == 0]) / len(y[y == 1])\n",
    "\n",
    "param_grid = {\n",
    "    'n_estimators': [300,400],\n",
    "    'max_depth': [3, 5, 7],\n",
    "    'learning_rate': [0.05, 0.1, 0.2],\n",
    "    'subsample': [0.8, 1.0],\n",
    "    'colsample_bytree': [0.8, 1.0],\n",
    "    'scale_pos_weight': [scale_weight],\n",
    "}\n",
    "\n",
    "xgb = XGBClassifier(\n",
    "    use_label_encoder=False,\n",
    "    eval_metric='logloss',\n",
    "    random_state=42\n",
    ")\n",
    "\n",
    "grid = GridSearchCV(\n",
    "    estimator=xgb,\n",
    "    param_grid=param_grid,\n",
    "    scoring='precision', \n",
    "    verbose=1,\n",
    "    n_jobs=-1\n",
    ")\n",
    "\n",
    "grid.fit(X_train, y_train)\n",
    "\n",
    "print(\"Mejores parámetros:\", grid.best_params_)\n"
   ]
  },
  {
   "cell_type": "code",
   "execution_count": 59,
   "id": "9336a3fc",
   "metadata": {},
   "outputs": [],
   "source": [
    "xgb_model = XGBClassifier(\n",
    "    n_estimators=300,\n",
    "    max_depth=4,\n",
    "    learning_rate=0.05,\n",
    "    subsample=0.8,\n",
    "    colsample_bytree=0.8,\n",
    "    gamma=1,\n",
    "    min_child_weight=3,\n",
    "    scale_pos_weight=5.86,  # Ya tenías este valor\n",
    "    use_label_encoder=False,\n",
    "    eval_metric='logloss',\n",
    "    random_state=42\n",
    ")\n",
    "\n",
    "# Entrenar\n",
    "xgb_model.fit(X_train, y_train)\n",
    "\n",
    "# Predecir\n",
    "y_pred = xgb_model.predict(X_test)\n",
    "y_proba = xgb_model.predict_proba(X_test)[:, 1]\n"
   ]
  },
  {
   "cell_type": "markdown",
   "id": "b4104c92",
   "metadata": {},
   "source": [
    "- *Se ajusta manualmente el umbral y se utiliza la matriz de confusion para evaluar*"
   ]
  },
  {
   "cell_type": "code",
   "execution_count": 58,
   "id": "2cc5016d",
   "metadata": {},
   "outputs": [
    {
     "name": "stdout",
     "output_type": "stream",
     "text": [
      "              precision    recall  f1-score   support\n",
      "\n",
      "           0       1.00      0.91      0.95      3298\n",
      "           1       0.60      1.00      0.75       452\n",
      "\n",
      "    accuracy                           0.92      3750\n",
      "   macro avg       0.80      0.95      0.85      3750\n",
      "weighted avg       0.95      0.92      0.93      3750\n",
      "\n"
     ]
    }
   ],
   "source": [
    "# Probabilidades de clase positiva\n",
    "y_proba = xgb_model.predict_proba(X_test)[:, 1]\n",
    "\n",
    "# Ajustar umbral de decisión\n",
    "threshold = 0.6\n",
    "y_pred_custom = (y_proba > threshold).astype(int)\n",
    "\n",
    "from sklearn.metrics import classification_report\n",
    "print(classification_report(y_test, y_pred_custom))\n"
   ]
  },
  {
   "cell_type": "markdown",
   "id": "de66515b",
   "metadata": {},
   "source": [
    "#Se Calcula el parámetro scale_pos_weight (recomendado para XGBoost con clases desbalanceadas)"
   ]
  },
  {
   "cell_type": "code",
   "execution_count": null,
   "id": "c0564d85",
   "metadata": {},
   "outputs": [],
   "source": [
    "\n",
    "scale_pos_weight = Counter(y_train)[0] / Counter(y_train)[1]"
   ]
  },
  {
   "cell_type": "markdown",
   "id": "efc560cf",
   "metadata": {},
   "source": [
    "#### Se Logro!!\n",
    "*Luego de muchas pruebas se logro encontrar los parametros correctos.*\n",
    "- *se pudo alcanzar un maximo de 85% de precision pero esto sacrificaba el recall por lo que se decidio que lo mejor seria dejar la precision en un 81%*\n",
    "\n",
    "*El modelo logra una precisión del ~81% para la clase de éxito, con un recall de ~74% y AUC superior a 0.97.*"
   ]
  },
  {
   "cell_type": "code",
   "execution_count": null,
   "id": "e69d26b5",
   "metadata": {},
   "outputs": [
    {
     "name": "stdout",
     "output_type": "stream",
     "text": [
      "Evaluación XGBoost con umbral 0.67:\n",
      "              precision    recall  f1-score   support\n",
      "\n",
      "           0       0.96      0.98      0.97      3298\n",
      "           1       0.81      0.74      0.78       452\n",
      "\n",
      "    accuracy                           0.95      3750\n",
      "   macro avg       0.89      0.86      0.87      3750\n",
      "weighted avg       0.95      0.95      0.95      3750\n",
      "\n",
      "Accuracy: 0.9482666666666667\n",
      "Precision: 0.8131067961165048\n",
      "Recall: 0.7411504424778761\n",
      "F1 Score: 0.7754629629629629\n",
      "ROC AUC: 0.9788608810917854\n",
      "Confusion Matrix:\n",
      " [[3221   77]\n",
      " [ 117  335]]\n",
      "\n",
      "🏆 Top 3 condados con mayor probabilidad de éxito:\n",
      "      county  proba_exito\n",
      "Contra Costa     0.927872\n",
      "    Siskiyou     0.804968\n",
      "    Humboldt     0.542549\n"
     ]
    }
   ],
   "source": [
    "# 1. Selección de (features) y variable objetivo (target)\n",
    "X = modelo[[\n",
    "    'latitude', 'longitude','locales_en_condado','prom_resenas_condado',\n",
    "    'mujeres_total','porc_positivas_condado','hombres_total',\n",
    "    'GoodForKids','edad_media', 'locales_por_1000hab',\n",
    "    'poblacion_total', 'prom_stars_condado','Caters','meal_dinner','music_dj',\n",
    "    'meal_lunch','dietary_gluten_free','OutdoorSeating','Alcohol','meal_breakfast','bestnight_friday'\n",
    "]]\n",
    "y = modelo['exito']\n",
    "\n",
    "# Asegurar que todos los datos sean numéricos y sin valores nulos\n",
    "X = X.apply(pd.to_numeric, errors='coerce')\n",
    "X = X.fillna(0)\n",
    "\n",
    "#Separar los datos por clase (para hacer oversampling de la clase 1)\n",
    "X_0 = X[y == 0]\n",
    "X_1 = X[y == 1]\n",
    "y_0 = y[y == 0]\n",
    "y_1 = y[y == 1]\n",
    "\n",
    "# Hacer oversampling de la clase minoritaria (éxito=1) para balancear parcialmente el set de entrenamiento\n",
    "X_1_upsampled, y_1_upsampled = resample(X_1, y_1,\n",
    "                                        replace=True,\n",
    "                                        n_samples=len(y_0) // 2,\n",
    "                                        random_state=42)\n",
    "\n",
    "# pConcatenar clases para formar el nuevo set de entrenamiento\n",
    "X_train = pd.concat([X_0, X_1_upsampled])\n",
    "y_train = pd.concat([y_0, y_1_upsampled])\n",
    "\n",
    "#Separar un conjunto de test para evaluar (manteniendo distribución de clases original)\n",
    "X_test, _, y_test, _ = train_test_split(X, y, test_size=0.3, stratify=y, random_state=42)\n",
    "\n",
    "\n",
    "#Definir y entrenar el modelo XGBoost\n",
    "xgb = XGBClassifier(\n",
    "    n_estimators=400,\n",
    "    max_depth=5,\n",
    "    learning_rate=0.05,\n",
    "    subsample=0.8,\n",
    "    colsample_bytree=0.8,\n",
    "    gamma=1,\n",
    "    min_child_weight=3,\n",
    "    scale_pos_weight=0.6, #scale_pos_weight,\n",
    "    use_label_encoder=False,\n",
    "    eval_metric='logloss',\n",
    "    random_state=42\n",
    ")\n",
    "xgb.fit(X_train, y_train)\n",
    "\n",
    "# Predecir probabilidades en el set de test\n",
    "y_proba = xgb.predict_proba(X_test)[:, 1]\n",
    "\n",
    "# Ajustar el umbral\n",
    "y_pred_ajustado = (y_proba >= 0.8).astype(int)\n",
    "\n",
    "# 11. Evaluar el modelo\n",
    "\n",
    "print(\"Evaluación XGBoost con umbral 0.67:\")\n",
    "print(classification_report(y_test,y_pred_ajustado))\n",
    "print(\"Accuracy:\", accuracy_score(y_test,y_pred_ajustado))\n",
    "print(\"Precision:\", precision_score(y_test, y_pred_ajustado))\n",
    "print(\"Recall:\", recall_score(y_test, y_pred_ajustado))\n",
    "print(\"F1 Score:\", f1_score(y_test,y_pred_ajustado))\n",
    "print(\"ROC AUC:\", roc_auc_score(y_test, y_proba))\n",
    "print(\"Confusion Matrix:\\n\", confusion_matrix(y_test, y_pred_ajustado))\n",
    "\n",
    "#TOP 3 condados con más probabilidad de éxito\n",
    "modelo['proba_exito'] = xgb.predict_proba(X)[:, 1]\n",
    "top3 = modelo[['county', 'proba_exito']].sort_values(by='proba_exito', ascending=False).drop_duplicates().head(3)\n",
    "\n",
    "print(\"\\n🏆 Top 3 condados con mayor probabilidad de éxito:\")\n",
    "print(top3.to_string(index=False))"
   ]
  },
  {
   "cell_type": "code",
   "execution_count": 63,
   "id": "6ed1ac35",
   "metadata": {},
   "outputs": [],
   "source": [
    "modelo.drop(columns=['Unnamed: 0'], inplace=True)"
   ]
  },
  {
   "cell_type": "markdown",
   "id": "3d461d32",
   "metadata": {},
   "source": [
    "- Se exportael df que se genero = modelo"
   ]
  },
  {
   "cell_type": "code",
   "execution_count": 65,
   "id": "a183bb10",
   "metadata": {},
   "outputs": [],
   "source": [
    "modelo.to_csv(r'C:\\Users\\ruizr\\Desktop\\datos\\data_limpia\\modelo.csv')"
   ]
  }
 ],
 "metadata": {
  "kernelspec": {
   "display_name": "pf",
   "language": "python",
   "name": "python3"
  },
  "language_info": {
   "codemirror_mode": {
    "name": "ipython",
    "version": 3
   },
   "file_extension": ".py",
   "mimetype": "text/x-python",
   "name": "python",
   "nbconvert_exporter": "python",
   "pygments_lexer": "ipython3",
   "version": "3.13.3"
  }
 },
 "nbformat": 4,
 "nbformat_minor": 5
}
